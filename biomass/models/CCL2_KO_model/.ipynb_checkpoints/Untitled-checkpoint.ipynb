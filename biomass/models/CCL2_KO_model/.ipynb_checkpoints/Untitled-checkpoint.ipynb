{
 "cells": [
  {
   "cell_type": "code",
   "execution_count": 1,
   "id": "72d23207",
   "metadata": {},
   "outputs": [],
   "source": [
    "import numpy as np"
   ]
  },
  {
   "cell_type": "code",
   "execution_count": 1,
   "id": "6b60ceaf",
   "metadata": {},
   "outputs": [
    {
     "name": "stdout",
     "output_type": "stream",
     "text": [
      "Collecting pyvis\n",
      "  Downloading pyvis-0.3.1.tar.gz (748 kB)\n",
      "     -------------------------------------- 748.9/748.9 kB 3.9 MB/s eta 0:00:00\n",
      "  Preparing metadata (setup.py): started\n",
      "  Preparing metadata (setup.py): finished with status 'done'\n",
      "Requirement already satisfied: jinja2>=2.9.6 in c:\\users\\okadalab-pc-mouse1\\anaconda3\\lib\\site-packages (from pyvis) (2.11.3)\n",
      "Requirement already satisfied: networkx>=1.11 in c:\\users\\okadalab-pc-mouse1\\anaconda3\\lib\\site-packages (from pyvis) (2.5)\n",
      "Requirement already satisfied: ipython>=5.3.0 in c:\\users\\okadalab-pc-mouse1\\anaconda3\\lib\\site-packages (from pyvis) (7.22.0)\n",
      "Collecting jsonpickle>=1.4.1\n",
      "  Downloading jsonpickle-3.0.1-py2.py3-none-any.whl (40 kB)\n",
      "     ---------------------------------------- 40.5/40.5 kB 2.0 MB/s eta 0:00:00\n",
      "Requirement already satisfied: prompt-toolkit!=3.0.0,!=3.0.1,<3.1.0,>=2.0.0 in c:\\users\\okadalab-pc-mouse1\\anaconda3\\lib\\site-packages (from ipython>=5.3.0->pyvis) (3.0.17)\n",
      "Requirement already satisfied: colorama in c:\\users\\okadalab-pc-mouse1\\anaconda3\\lib\\site-packages (from ipython>=5.3.0->pyvis) (0.4.6)\n",
      "Requirement already satisfied: traitlets>=4.2 in c:\\users\\okadalab-pc-mouse1\\anaconda3\\lib\\site-packages (from ipython>=5.3.0->pyvis) (5.0.5)\n",
      "Requirement already satisfied: jedi>=0.16 in c:\\users\\okadalab-pc-mouse1\\anaconda3\\lib\\site-packages (from ipython>=5.3.0->pyvis) (0.17.2)\n",
      "Requirement already satisfied: backcall in c:\\users\\okadalab-pc-mouse1\\anaconda3\\lib\\site-packages (from ipython>=5.3.0->pyvis) (0.2.0)\n",
      "Requirement already satisfied: pygments in c:\\users\\okadalab-pc-mouse1\\anaconda3\\lib\\site-packages (from ipython>=5.3.0->pyvis) (2.8.1)\n",
      "Requirement already satisfied: decorator in c:\\users\\okadalab-pc-mouse1\\anaconda3\\lib\\site-packages (from ipython>=5.3.0->pyvis) (5.0.6)\n",
      "Requirement already satisfied: pickleshare in c:\\users\\okadalab-pc-mouse1\\anaconda3\\lib\\site-packages (from ipython>=5.3.0->pyvis) (0.7.5)\n",
      "Requirement already satisfied: setuptools>=18.5 in c:\\users\\okadalab-pc-mouse1\\anaconda3\\lib\\site-packages (from ipython>=5.3.0->pyvis) (65.5.0)\n",
      "Requirement already satisfied: MarkupSafe>=0.23 in c:\\users\\okadalab-pc-mouse1\\anaconda3\\lib\\site-packages (from jinja2>=2.9.6->pyvis) (1.1.1)\n",
      "Requirement already satisfied: parso<0.8.0,>=0.7.0 in c:\\users\\okadalab-pc-mouse1\\anaconda3\\lib\\site-packages (from jedi>=0.16->ipython>=5.3.0->pyvis) (0.7.0)\n",
      "Requirement already satisfied: wcwidth in c:\\users\\okadalab-pc-mouse1\\anaconda3\\lib\\site-packages (from prompt-toolkit!=3.0.0,!=3.0.1,<3.1.0,>=2.0.0->ipython>=5.3.0->pyvis) (0.2.5)\n",
      "Requirement already satisfied: ipython-genutils in c:\\users\\okadalab-pc-mouse1\\anaconda3\\lib\\site-packages (from traitlets>=4.2->ipython>=5.3.0->pyvis) (0.2.0)\n",
      "Building wheels for collected packages: pyvis\n",
      "  Building wheel for pyvis (setup.py): started\n",
      "  Building wheel for pyvis (setup.py): finished with status 'done'\n",
      "  Created wheel for pyvis: filename=pyvis-0.3.1-py3-none-any.whl size=755834 sha256=ff6a4bfb91cbad50004cdec75574c8fbe061d5bda615ef22d22f2429921d3507\n",
      "  Stored in directory: c:\\users\\okadalab-pc-mouse1\\appdata\\local\\pip\\cache\\wheels\\58\\42\\e1\\22469ed9fbeed51b384ae2dd29e2a16d988a768eb05c990c51\n",
      "Successfully built pyvis\n",
      "Installing collected packages: jsonpickle, pyvis\n",
      "Successfully installed jsonpickle-3.0.1 pyvis-0.3.1\n"
     ]
    },
    {
     "name": "stderr",
     "output_type": "stream",
     "text": [
      "\n",
      "[notice] A new release of pip available: 22.3 -> 22.3.1\n",
      "[notice] To update, run: python.exe -m pip install --upgrade pip\n"
     ]
    }
   ],
   "source": [
    "!pip install pyvis"
   ]
  },
  {
   "cell_type": "code",
   "execution_count": 1,
   "id": "0b08b73d",
   "metadata": {},
   "outputs": [
    {
     "name": "stderr",
     "output_type": "stream",
     "text": [
      "<frozen importlib._bootstrap>:219: RuntimeWarning: scipy._lib.messagestream.MessageStream size changed, may indicate binary incompatibility. Expected 56 from C header, got 64 from PyObject\n"
     ]
    }
   ],
   "source": [
    "import pandas as pd\n",
    "import seaborn as sns\n",
    "import numpy as np\n",
    "import matplotlib.pyplot as plt\n",
    "import networkx as nx\n",
    "from pyvis.network import Network"
   ]
  },
  {
   "cell_type": "code",
   "execution_count": 2,
   "id": "2ca15d15",
   "metadata": {},
   "outputs": [],
   "source": [
    "cof=np.load(\"sensitivity_coefficients/parameter/integral.npy\")"
   ]
  },
  {
   "cell_type": "code",
   "execution_count": 3,
   "id": "038c7e12",
   "metadata": {},
   "outputs": [
    {
     "data": {
      "text/plain": [
       "(20, 38, 14, 2)"
      ]
     },
     "execution_count": 3,
     "metadata": {},
     "output_type": "execute_result"
    }
   ],
   "source": [
    "cof.shape"
   ]
  },
  {
   "cell_type": "code",
   "execution_count": 4,
   "id": "62fbfae9",
   "metadata": {},
   "outputs": [],
   "source": [
    "hcof=cof[:,:,6,0]"
   ]
  },
  {
   "cell_type": "code",
   "execution_count": 5,
   "id": "04ecd6d0",
   "metadata": {},
   "outputs": [],
   "source": [
    "pcof=cof[:,:,6,1]"
   ]
  },
  {
   "cell_type": "code",
   "execution_count": 6,
   "id": "0a03639b",
   "metadata": {},
   "outputs": [
    {
     "data": {
      "text/plain": [
       "(20, 38)"
      ]
     },
     "execution_count": 6,
     "metadata": {},
     "output_type": "execute_result"
    }
   ],
   "source": [
    "hcof.shape"
   ]
  },
  {
   "cell_type": "code",
   "execution_count": 7,
   "id": "cd4a4ac9",
   "metadata": {},
   "outputs": [],
   "source": [
    "hcof_mean=np.mean(hcof, axis=0)"
   ]
  },
  {
   "cell_type": "code",
   "execution_count": 8,
   "id": "b10240fd",
   "metadata": {},
   "outputs": [],
   "source": [
    "pcof_mean=np.mean(pcof, axis=0)"
   ]
  },
  {
   "cell_type": "code",
   "execution_count": 9,
   "id": "9bbadfc4",
   "metadata": {},
   "outputs": [
    {
     "data": {
      "text/plain": [
       "array([-1.09289842e-01,  8.59018193e-02, -6.52609423e-03,  3.71084770e-02,\n",
       "        8.30424551e-03, -1.66582687e-01, -2.48239386e-01, -5.66859556e-02,\n",
       "       -4.50854708e-01,  1.07704099e-01, -1.09241084e-01,  1.38733019e-01,\n",
       "       -2.14182810e-03,  5.07578653e-03,  1.92609628e-01,  0.00000000e+00,\n",
       "        0.00000000e+00,  0.00000000e+00,  0.00000000e+00,  0.00000000e+00,\n",
       "        0.00000000e+00, -4.14089372e-04, -1.50245048e-02, -5.20879996e-02,\n",
       "       -6.89826196e-02,  1.35757399e-01,  2.35232538e-01, -1.60836412e-01,\n",
       "        1.04525561e-01,  1.47419661e-01,  3.47307690e-01, -3.29252551e-02,\n",
       "       -1.26322853e-01,  4.75717924e-01,  4.80868457e-02, -1.76432197e-01,\n",
       "       -1.13158328e-01, -2.15234246e-01])"
      ]
     },
     "execution_count": 9,
     "metadata": {},
     "output_type": "execute_result"
    }
   ],
   "source": [
    "hcof_mean"
   ]
  },
  {
   "cell_type": "code",
   "execution_count": 10,
   "id": "eb7c2629",
   "metadata": {},
   "outputs": [
    {
     "data": {
      "text/plain": [
       "array([-3.64254838e-01,  1.51156601e-01, -4.36376096e-02,  9.57590421e-02,\n",
       "        1.40030498e-02, -3.13814470e-01, -3.29124003e-01, -1.61650674e-01,\n",
       "       -1.07912484e+00,  3.75996833e-01, -3.78462592e-01,  1.25549325e-01,\n",
       "       -2.26326445e-03,  8.69887189e-03,  1.41840835e-01,  0.00000000e+00,\n",
       "        0.00000000e+00,  0.00000000e+00,  0.00000000e+00,  0.00000000e+00,\n",
       "        0.00000000e+00, -7.21623891e-04, -7.67582696e-03, -5.30761753e-02,\n",
       "       -8.28768588e-02,  2.29512843e-01,  2.39824159e-01, -3.49326091e-01,\n",
       "        1.70101336e-01,  3.04685145e-01,  5.60408495e-01, -1.22665029e-01,\n",
       "       -6.55301982e-02,  5.52799798e-01,  4.15525338e-02, -1.20435281e-01,\n",
       "       -1.52199628e-01, -2.15917296e-01])"
      ]
     },
     "execution_count": 10,
     "metadata": {},
     "output_type": "execute_result"
    }
   ],
   "source": [
    "pcof_mean"
   ]
  },
  {
   "cell_type": "code",
   "execution_count": 98,
   "id": "7e9b6289",
   "metadata": {},
   "outputs": [
    {
     "name": "stderr",
     "output_type": "stream",
     "text": [
      "<ipython-input-98-b1365a001da5>:1: RuntimeWarning: divide by zero encountered in log\n",
      "  np.log(pcof_mean)\n",
      "<ipython-input-98-b1365a001da5>:1: RuntimeWarning: invalid value encountered in log\n",
      "  np.log(pcof_mean)\n"
     ]
    },
    {
     "data": {
      "text/plain": [
       "array([        nan, -1.88943889,         nan, -2.34592022, -4.26848013,\n",
       "               nan,         nan,         nan,         nan, -0.97817456,\n",
       "               nan, -2.07505657,         nan, -4.74456193, -1.95304973,\n",
       "              -inf,        -inf,        -inf,        -inf,        -inf,\n",
       "              -inf,         nan,         nan,         nan,         nan,\n",
       "       -1.47179629, -1.4278493 ,         nan, -1.77136093, -1.18847635,\n",
       "       -0.57908931,         nan,         nan, -0.59275937, -3.18079678,\n",
       "               nan,         nan,         nan])"
      ]
     },
     "execution_count": 98,
     "metadata": {},
     "output_type": "execute_result"
    }
   ],
   "source": [
    "np.log(pcof_mean)"
   ]
  },
  {
   "cell_type": "code",
   "execution_count": 54,
   "id": "cfa25385",
   "metadata": {},
   "outputs": [
    {
     "name": "stderr",
     "output_type": "stream",
     "text": [
      "<ipython-input-54-eb8cc14648af>:1: RuntimeWarning: invalid value encountered in divide\n",
      "  ratiocof=pcof_mean/hcof_mean\n"
     ]
    }
   ],
   "source": [
    "ratiocof=pcof_mean/hcof_mean"
   ]
  },
  {
   "cell_type": "code",
   "execution_count": 81,
   "id": "0cea1d22",
   "metadata": {},
   "outputs": [],
   "source": [
    "ratiocof[15:21]=0"
   ]
  },
  {
   "cell_type": "code",
   "execution_count": 82,
   "id": "4ded52cc",
   "metadata": {},
   "outputs": [
    {
     "data": {
      "text/plain": [
       "array([3.33292491, 1.75964376, 6.68663492, 2.58051663, 1.68625191,\n",
       "       1.88383604, 1.32583313, 2.85168826, 2.39350908, 3.49101691,\n",
       "       3.46447123, 0.90497076, 1.05669753, 1.71379782, 0.73641612,\n",
       "       0.        , 0.        , 0.        , 0.        , 0.        ,\n",
       "       0.        , 1.74267668, 0.51088718, 1.01897127, 1.20141652,\n",
       "       1.69061019, 1.0195195 , 2.17193411, 1.62736591, 2.06678771,\n",
       "       1.61357929, 3.72556048, 0.51875173, 1.16203273, 0.86411436,\n",
       "       0.6826151 , 1.34501483, 1.00317352])"
      ]
     },
     "execution_count": 82,
     "metadata": {},
     "output_type": "execute_result"
    }
   ],
   "source": [
    "ratiocof"
   ]
  },
  {
   "cell_type": "raw",
   "id": "e3d049d9",
   "metadata": {},
   "source": [
    "len(ratiocof)"
   ]
  },
  {
   "cell_type": "code",
   "execution_count": 84,
   "id": "d2afb9ab",
   "metadata": {},
   "outputs": [
    {
     "data": {
      "text/plain": [
       "6.686634917037146"
      ]
     },
     "execution_count": 84,
     "metadata": {},
     "output_type": "execute_result"
    }
   ],
   "source": [
    "max(ratiocof)"
   ]
  },
  {
   "cell_type": "code",
   "execution_count": 109,
   "id": "be0c80b3",
   "metadata": {},
   "outputs": [],
   "source": [
    "colorlis=[]\n",
    "widlis=[]\n",
    "rlis=[]"
   ]
  },
  {
   "cell_type": "code",
   "execution_count": 110,
   "id": "4a44b4fd",
   "metadata": {},
   "outputs": [],
   "source": [
    "for i in range(len(ratiocof)):\n",
    "    if pcof_mean[i]<0:\n",
    "        R = 255-int(255*ratiocof[i]/max(ratiocof))\n",
    "        G = 255-int(255*ratiocof[i]/max(ratiocof))\n",
    "        B = 255\n",
    "        wid=-1*pcof_mean[i]*10\n",
    "    else:\n",
    "        R = 255\n",
    "        G = 255\n",
    "        B = 255-int(255*ratiocof[i]/max(ratiocof))\n",
    "        wid=pcof_mean[i]*10\n",
    "    color_code = '#{}{}{}'.format(hex(R), hex(G), hex(B))\n",
    "    color_code = color_code.replace('0x', '')\n",
    "    colorlis.append(color_code)\n",
    "    widlis.append(wid)\n",
    "    rlis.append(R)"
   ]
  },
  {
   "cell_type": "code",
   "execution_count": 108,
   "id": "2090a9b4",
   "metadata": {},
   "outputs": [
    {
     "data": {
      "text/plain": [
       "[127,\n",
       " 0,\n",
       " 255,\n",
       " 0,\n",
       " 0,\n",
       " 71,\n",
       " 50,\n",
       " 108,\n",
       " 91,\n",
       " 0,\n",
       " 132,\n",
       " 0,\n",
       " 40,\n",
       " 0,\n",
       " 0,\n",
       " 0,\n",
       " 0,\n",
       " 0,\n",
       " 0,\n",
       " 0,\n",
       " 0,\n",
       " 66,\n",
       " 19,\n",
       " 38,\n",
       " 45,\n",
       " 0,\n",
       " 0,\n",
       " 82,\n",
       " 0,\n",
       " 0,\n",
       " 0,\n",
       " 142,\n",
       " 19,\n",
       " 0,\n",
       " 0,\n",
       " 26,\n",
       " 51,\n",
       " 38]"
      ]
     },
     "execution_count": 108,
     "metadata": {},
     "output_type": "execute_result"
    }
   ],
   "source": [
    "rlis"
   ]
  },
  {
   "cell_type": "code",
   "execution_count": 111,
   "id": "4d2cf571",
   "metadata": {},
   "outputs": [
    {
     "name": "stdout",
     "output_type": "stream",
     "text": [
      "Local cdn resources have problems on chrome/safari when used in jupyter-notebook. \n"
     ]
    }
   ],
   "source": [
    "network = Network(\n",
    "    height=\"300px\",  # デフォルト \"500px\"\n",
    "    width=\"400px\",  # デフォルト \"500px\"\n",
    "    notebook=True,  # これをTrueにしておくとjupyter上で結果が見れる\n",
    "    bgcolor='#ffffff',  # 背景色。デフォルト \"#ffffff\"\n",
    "    directed=True,  # Trueにすると有向グラフ。デフォルトはFalseで無向グラフ\n",
    ")"
   ]
  },
  {
   "cell_type": "code",
   "execution_count": 112,
   "id": "7ab31cd5",
   "metadata": {},
   "outputs": [],
   "source": [
    "# add_node でノードを追加\n",
    "# label は省略可能。省略するとidと同じになる。\n",
    "network.add_node(n_id=1, label=\"input\", shape=\"box\")\n",
    "network.add_node(n_id=2, label=\"Bacteria\", shape=\"box\",color='gray')\n",
    "network.add_node(n_id=3, label=\"Toll-like receptors\", shape=\"box\",color='gray')\n",
    "network.add_node(n_id=4, label=\"Effector immune cells\", shape=\"box\",color='gray')\n",
    "network.add_node(n_id=5, label=\"Epithelial barrier\", shape=\"box\",color='gray')\n",
    "network.add_node(n_id=6, label=\"Monocytes\", shape=\"box\",color='gray')\n",
    "network.add_node(n_id=7, label=\"Endothelial damage\", shape=\"box\",color='gray')\n",
    "network.add_node(n_id=8, label=\"Osteoclasts\", shape=\"box\",color='gray')\n",
    "network.add_node(n_id=9, label=\"Osteoblasts\", shape=\"box\",color='gray')\n",
    "network.add_node(n_id=10, label=\"Bone integrity\", shape=\"box\",color='gray')\n",
    "network.add_node(n_id=11, label=\"Pdcd1\", shape=\"box\")\n",
    "network.add_node(n_id=12, label=\"Il10\", shape=\"box\")\n",
    "network.add_node(n_id=13, label=\"Arg1\", shape=\"box\")\n",
    "network.add_node(n_id=14, label=\"Ppp1r11\", shape=\"box\")\n",
    "network.add_node(n_id=15, label=\"Vegfa\", shape=\"box\")\n",
    "\n",
    "# add_edge でエッジを追加\n",
    "network.add_edge(1, 2,width=widlis[10],color=colorlis[10])\n",
    "\n",
    "network.add_edge(4, 2,width=widlis[4],color=colorlis[4])\n",
    "network.add_edge(5, 2,width=widlis[3],color=colorlis[3])\n",
    "network.add_edge(2, 3,width=widlis[0],color=colorlis[0])\n",
    "network.add_edge(3, 4,width=widlis[1],color=colorlis[1])\n",
    "network.add_edge(3, 5,width=widlis[2],color=colorlis[2])\n",
    "network.add_edge(3, 6,width=widlis[5],color=colorlis[5])\n",
    "network.add_edge(3, 7,width=widlis[27],color=colorlis[27])\n",
    "network.add_edge(3, 14,width=widlis[25],color=colorlis[25])\n",
    "network.add_edge(14, 3,width=widlis[26],color=colorlis[26])\n",
    "network.add_edge(4, 11,width=widlis[23],color=colorlis[23])\n",
    "network.add_edge(11, 4,width=widlis[24],color=colorlis[24])\n",
    "network.add_edge(4, 12,width=widlis[11],color=colorlis[11])\n",
    "network.add_edge(12, 4,width=widlis[12],color=colorlis[12])\n",
    "network.add_edge(6, 12,width=widlis[13],color=colorlis[13])\n",
    "network.add_edge(12, 6,width=widlis[14],color=colorlis[14])\n",
    "network.add_edge(13, 4,width=widlis[22],color=colorlis[22])\n",
    "network.add_edge(6, 13,width=widlis[21],color=colorlis[21])\n",
    "network.add_edge(7, 15,width=widlis[28],color=colorlis[28])\n",
    "network.add_edge(15, 7,width=widlis[29],color=colorlis[29])\n",
    "network.add_edge(7, 6,width=widlis[6],color=colorlis[6])\n",
    "network.add_edge(6, 8,width=widlis[7],color=colorlis[7])\n",
    "\n",
    "network.add_edge(8, 9,width=widlis[31],color=colorlis[31])\n",
    "network.add_edge(9, 8,width=widlis[32],color=colorlis[32])\n",
    "network.add_edge(8, 10,width=widlis[8],color=colorlis[8])\n",
    "network.add_edge(9, 10,width=widlis[33],color=colorlis[33])\n",
    "\n",
    "#network.add_edge(2, 4, width=2)  # width で太さを変えられる\n",
    "#network.add_edge(3, 4, smooth=\"dynamic\")  # smooth を指定することで、エッジを曲線にできる\n",
    "#network.add_edge(4, 3, smooth=\"dynamic\")  # エッジを曲線にすると双方向のエッジを別の線にできる。(直線だと重なる)"
   ]
  },
  {
   "cell_type": "code",
   "execution_count": 113,
   "id": "b70829ca",
   "metadata": {},
   "outputs": [
    {
     "data": {
      "text/html": [
       "\n",
       "        <iframe\n",
       "            width=\"400px\"\n",
       "            height=\"300px\"\n",
       "            src=\"pyvis_sample1.html\"\n",
       "            frameborder=\"0\"\n",
       "            allowfullscreen\n",
       "        ></iframe>\n",
       "        "
      ],
      "text/plain": [
       "<IPython.lib.display.IFrame at 0x23e17245f10>"
      ]
     },
     "execution_count": 113,
     "metadata": {},
     "output_type": "execute_result"
    }
   ],
   "source": [
    "# 指定したファイル名でHTMLを出力。\n",
    "network.show(\"pyvis_sample1.html\")"
   ]
  },
  {
   "cell_type": "code",
   "execution_count": 74,
   "id": "756fb162",
   "metadata": {},
   "outputs": [],
   "source": [
    "R = 140\n",
    "G = 180\n",
    "B = 250\n",
    "color_code = '#{}{}{}'.format(hex(R), hex(G), hex(B))\n",
    "color_code = color_code.replace('0x', '')"
   ]
  },
  {
   "cell_type": "code",
   "execution_count": 75,
   "id": "39ba5be8",
   "metadata": {},
   "outputs": [
    {
     "data": {
      "text/plain": [
       "'#8cb4fa'"
      ]
     },
     "execution_count": 75,
     "metadata": {},
     "output_type": "execute_result"
    }
   ],
   "source": [
    "color_code"
   ]
  },
  {
   "cell_type": "code",
   "execution_count": null,
   "id": "3b54bab7",
   "metadata": {},
   "outputs": [],
   "source": []
  }
 ],
 "metadata": {
  "kernelspec": {
   "display_name": "Python 3",
   "language": "python",
   "name": "python3"
  },
  "language_info": {
   "codemirror_mode": {
    "name": "ipython",
    "version": 3
   },
   "file_extension": ".py",
   "mimetype": "text/x-python",
   "name": "python",
   "nbconvert_exporter": "python",
   "pygments_lexer": "ipython3",
   "version": "3.8.8"
  }
 },
 "nbformat": 4,
 "nbformat_minor": 5
}
