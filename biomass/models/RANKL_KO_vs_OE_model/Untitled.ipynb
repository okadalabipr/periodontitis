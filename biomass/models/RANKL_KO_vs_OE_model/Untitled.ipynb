{
 "cells": [
  {
   "cell_type": "code",
   "execution_count": 1,
   "id": "72d23207",
   "metadata": {},
   "outputs": [],
   "source": [
    "import numpy as np"
   ]
  },
  {
   "cell_type": "code",
   "execution_count": 1,
   "id": "6b60ceaf",
   "metadata": {},
   "outputs": [
    {
     "name": "stdout",
     "output_type": "stream",
     "text": [
      "Collecting pyvis\n",
      "  Downloading pyvis-0.3.1.tar.gz (748 kB)\n",
      "     -------------------------------------- 748.9/748.9 kB 3.9 MB/s eta 0:00:00\n",
      "  Preparing metadata (setup.py): started\n",
      "  Preparing metadata (setup.py): finished with status 'done'\n",
      "Requirement already satisfied: jinja2>=2.9.6 in c:\\users\\okadalab-pc-mouse1\\anaconda3\\lib\\site-packages (from pyvis) (2.11.3)\n",
      "Requirement already satisfied: networkx>=1.11 in c:\\users\\okadalab-pc-mouse1\\anaconda3\\lib\\site-packages (from pyvis) (2.5)\n",
      "Requirement already satisfied: ipython>=5.3.0 in c:\\users\\okadalab-pc-mouse1\\anaconda3\\lib\\site-packages (from pyvis) (7.22.0)\n",
      "Collecting jsonpickle>=1.4.1\n",
      "  Downloading jsonpickle-3.0.1-py2.py3-none-any.whl (40 kB)\n",
      "     ---------------------------------------- 40.5/40.5 kB 2.0 MB/s eta 0:00:00\n",
      "Requirement already satisfied: prompt-toolkit!=3.0.0,!=3.0.1,<3.1.0,>=2.0.0 in c:\\users\\okadalab-pc-mouse1\\anaconda3\\lib\\site-packages (from ipython>=5.3.0->pyvis) (3.0.17)\n",
      "Requirement already satisfied: colorama in c:\\users\\okadalab-pc-mouse1\\anaconda3\\lib\\site-packages (from ipython>=5.3.0->pyvis) (0.4.6)\n",
      "Requirement already satisfied: traitlets>=4.2 in c:\\users\\okadalab-pc-mouse1\\anaconda3\\lib\\site-packages (from ipython>=5.3.0->pyvis) (5.0.5)\n",
      "Requirement already satisfied: jedi>=0.16 in c:\\users\\okadalab-pc-mouse1\\anaconda3\\lib\\site-packages (from ipython>=5.3.0->pyvis) (0.17.2)\n",
      "Requirement already satisfied: backcall in c:\\users\\okadalab-pc-mouse1\\anaconda3\\lib\\site-packages (from ipython>=5.3.0->pyvis) (0.2.0)\n",
      "Requirement already satisfied: pygments in c:\\users\\okadalab-pc-mouse1\\anaconda3\\lib\\site-packages (from ipython>=5.3.0->pyvis) (2.8.1)\n",
      "Requirement already satisfied: decorator in c:\\users\\okadalab-pc-mouse1\\anaconda3\\lib\\site-packages (from ipython>=5.3.0->pyvis) (5.0.6)\n",
      "Requirement already satisfied: pickleshare in c:\\users\\okadalab-pc-mouse1\\anaconda3\\lib\\site-packages (from ipython>=5.3.0->pyvis) (0.7.5)\n",
      "Requirement already satisfied: setuptools>=18.5 in c:\\users\\okadalab-pc-mouse1\\anaconda3\\lib\\site-packages (from ipython>=5.3.0->pyvis) (65.5.0)\n",
      "Requirement already satisfied: MarkupSafe>=0.23 in c:\\users\\okadalab-pc-mouse1\\anaconda3\\lib\\site-packages (from jinja2>=2.9.6->pyvis) (1.1.1)\n",
      "Requirement already satisfied: parso<0.8.0,>=0.7.0 in c:\\users\\okadalab-pc-mouse1\\anaconda3\\lib\\site-packages (from jedi>=0.16->ipython>=5.3.0->pyvis) (0.7.0)\n",
      "Requirement already satisfied: wcwidth in c:\\users\\okadalab-pc-mouse1\\anaconda3\\lib\\site-packages (from prompt-toolkit!=3.0.0,!=3.0.1,<3.1.0,>=2.0.0->ipython>=5.3.0->pyvis) (0.2.5)\n",
      "Requirement already satisfied: ipython-genutils in c:\\users\\okadalab-pc-mouse1\\anaconda3\\lib\\site-packages (from traitlets>=4.2->ipython>=5.3.0->pyvis) (0.2.0)\n",
      "Building wheels for collected packages: pyvis\n",
      "  Building wheel for pyvis (setup.py): started\n",
      "  Building wheel for pyvis (setup.py): finished with status 'done'\n",
      "  Created wheel for pyvis: filename=pyvis-0.3.1-py3-none-any.whl size=755834 sha256=ff6a4bfb91cbad50004cdec75574c8fbe061d5bda615ef22d22f2429921d3507\n",
      "  Stored in directory: c:\\users\\okadalab-pc-mouse1\\appdata\\local\\pip\\cache\\wheels\\58\\42\\e1\\22469ed9fbeed51b384ae2dd29e2a16d988a768eb05c990c51\n",
      "Successfully built pyvis\n",
      "Installing collected packages: jsonpickle, pyvis\n",
      "Successfully installed jsonpickle-3.0.1 pyvis-0.3.1\n"
     ]
    },
    {
     "name": "stderr",
     "output_type": "stream",
     "text": [
      "\n",
      "[notice] A new release of pip available: 22.3 -> 22.3.1\n",
      "[notice] To update, run: python.exe -m pip install --upgrade pip\n"
     ]
    }
   ],
   "source": [
    "!pip install pyvis"
   ]
  },
  {
   "cell_type": "code",
   "execution_count": 2,
   "id": "0b08b73d",
   "metadata": {},
   "outputs": [
    {
     "name": "stderr",
     "output_type": "stream",
     "text": [
      "<frozen importlib._bootstrap>:219: RuntimeWarning: scipy._lib.messagestream.MessageStream size changed, may indicate binary incompatibility. Expected 56 from C header, got 64 from PyObject\n"
     ]
    }
   ],
   "source": [
    "import pandas as pd\n",
    "import seaborn as sns\n",
    "import numpy as np\n",
    "import matplotlib.pyplot as plt\n",
    "import networkx as nx\n",
    "from pyvis.network import Network"
   ]
  },
  {
   "cell_type": "code",
   "execution_count": 4,
   "id": "2ca15d15",
   "metadata": {},
   "outputs": [],
   "source": [
    "cof=np.load(\"sensitivity_coefficients/parameter/integral.npy\")"
   ]
  },
  {
   "cell_type": "code",
   "execution_count": 4,
   "id": "038c7e12",
   "metadata": {},
   "outputs": [
    {
     "data": {
      "text/plain": [
       "(20, 33, 14, 2)"
      ]
     },
     "execution_count": 4,
     "metadata": {},
     "output_type": "execute_result"
    }
   ],
   "source": [
    "cof.shape"
   ]
  },
  {
   "cell_type": "code",
   "execution_count": 5,
   "id": "62fbfae9",
   "metadata": {},
   "outputs": [],
   "source": [
    "hcof=cof[:,:,6,0]"
   ]
  },
  {
   "cell_type": "code",
   "execution_count": 6,
   "id": "04ecd6d0",
   "metadata": {},
   "outputs": [],
   "source": [
    "pcof=cof[:,:,6,1]"
   ]
  },
  {
   "cell_type": "code",
   "execution_count": 7,
   "id": "0a03639b",
   "metadata": {},
   "outputs": [
    {
     "data": {
      "text/plain": [
       "(20, 33)"
      ]
     },
     "execution_count": 7,
     "metadata": {},
     "output_type": "execute_result"
    }
   ],
   "source": [
    "hcof.shape"
   ]
  },
  {
   "cell_type": "code",
   "execution_count": 7,
   "id": "cd4a4ac9",
   "metadata": {},
   "outputs": [],
   "source": [
    "hcof_mean=np.mean(hcof, axis=0)"
   ]
  },
  {
   "cell_type": "code",
   "execution_count": 8,
   "id": "b10240fd",
   "metadata": {},
   "outputs": [],
   "source": [
    "pcof_mean=np.mean(pcof, axis=0)"
   ]
  },
  {
   "cell_type": "code",
   "execution_count": 10,
   "id": "9bbadfc4",
   "metadata": {},
   "outputs": [
    {
     "data": {
      "text/plain": [
       "array([-0.07399196,  0.07286357,  0.00541262,  0.0313633 , -0.61868749,\n",
       "        0.64366461, -0.0693638 ,  0.08163691,  0.12908447, -0.10630969,\n",
       "       -0.00156399,  0.05099043, -0.0319998 , -0.04506202, -0.00132568,\n",
       "       -0.00189915,  0.02753447,  0.00153457,  0.08325021,  0.00362641,\n",
       "       -0.00103057,  0.10481268, -0.08188257, -0.17300552,  0.11343262,\n",
       "        0.16406425, -0.11673854, -0.21171228, -0.26140756, -0.056671  ,\n",
       "        0.45429907, -0.15017526, -0.07997475])"
      ]
     },
     "execution_count": 10,
     "metadata": {},
     "output_type": "execute_result"
    }
   ],
   "source": [
    "hcof_mean"
   ]
  },
  {
   "cell_type": "code",
   "execution_count": 11,
   "id": "eb7c2629",
   "metadata": {},
   "outputs": [
    {
     "data": {
      "text/plain": [
       "array([-0.47909442,  0.47294967,  0.01511355,  0.07998913, -1.1680912 ,\n",
       "        0.70770132, -0.3844832 ,  0.1492603 ,  0.20969782, -0.13904519,\n",
       "       -0.01173637,  0.12735586, -0.04885788, -0.07648703, -0.00312628,\n",
       "       -0.0039963 ,  0.03314228,  0.00301038,  0.11701093,  0.0053148 ,\n",
       "       -0.00192508,  0.18596243, -0.10724153, -0.347278  ,  0.18266686,\n",
       "        0.32660184, -0.16239549, -0.34528548, -0.34015795, -0.14316328,\n",
       "        0.56726578, -0.1874752 , -0.04215821])"
      ]
     },
     "execution_count": 11,
     "metadata": {},
     "output_type": "execute_result"
    }
   ],
   "source": [
    "pcof_mean"
   ]
  },
  {
   "cell_type": "code",
   "execution_count": 12,
   "id": "7e9b6289",
   "metadata": {},
   "outputs": [
    {
     "name": "stderr",
     "output_type": "stream",
     "text": [
      "<ipython-input-12-b1365a001da5>:1: RuntimeWarning: invalid value encountered in log\n",
      "  np.log(pcof_mean)\n"
     ]
    },
    {
     "data": {
      "text/plain": [
       "array([        nan, -0.7487663 , -4.19216391, -2.52586456,         nan,\n",
       "       -0.34573314,         nan, -1.90206354, -1.56208776,         nan,\n",
       "               nan, -2.06077008,         nan,         nan,         nan,\n",
       "               nan, -3.40694546, -5.80569047, -2.14548795, -5.23726006,\n",
       "               nan, -1.68221062,         nan,         nan, -1.70009122,\n",
       "       -1.11901347,         nan,         nan,         nan,         nan,\n",
       "       -0.56692734,         nan,         nan])"
      ]
     },
     "execution_count": 12,
     "metadata": {},
     "output_type": "execute_result"
    }
   ],
   "source": [
    "np.log(pcof_mean)"
   ]
  },
  {
   "cell_type": "code",
   "execution_count": 9,
   "id": "cfa25385",
   "metadata": {},
   "outputs": [],
   "source": [
    "ratiocof=pcof_mean/hcof_mean"
   ]
  },
  {
   "cell_type": "code",
   "execution_count": null,
   "id": "4370af55",
   "metadata": {},
   "outputs": [],
   "source": []
  },
  {
   "cell_type": "code",
   "execution_count": 11,
   "id": "0cea1d22",
   "metadata": {},
   "outputs": [],
   "source": [
    "#ratiocof[15:21]=0"
   ]
  },
  {
   "cell_type": "code",
   "execution_count": 10,
   "id": "4ded52cc",
   "metadata": {},
   "outputs": [
    {
     "data": {
      "text/plain": [
       "array([6.47495273, 6.49089351, 2.7922795 , 2.55040573, 1.8880149 ,\n",
       "       1.09948769, 5.54299488, 1.82834328, 1.62450071, 1.30792581,\n",
       "       7.50410006, 2.49764252, 1.52681823, 1.69737216, 2.35825183,\n",
       "       2.1042565 , 1.20366507, 1.96171175, 1.40553316, 1.46557987,\n",
       "       1.86796941, 1.77423599, 1.30969916, 2.00732318, 1.6103557 ,\n",
       "       1.99069473, 1.39110437, 1.6309185 , 1.30125523, 2.5262177 ,\n",
       "       1.24866155, 1.2483761 , 0.52714403])"
      ]
     },
     "execution_count": 10,
     "metadata": {},
     "output_type": "execute_result"
    }
   ],
   "source": [
    "ratiocof"
   ]
  },
  {
   "cell_type": "raw",
   "id": "e3d049d9",
   "metadata": {},
   "source": [
    "len(ratiocof)"
   ]
  },
  {
   "cell_type": "code",
   "execution_count": 84,
   "id": "d2afb9ab",
   "metadata": {},
   "outputs": [
    {
     "data": {
      "text/plain": [
       "6.686634917037146"
      ]
     },
     "execution_count": 84,
     "metadata": {},
     "output_type": "execute_result"
    }
   ],
   "source": [
    "max(ratiocof)"
   ]
  },
  {
   "cell_type": "code",
   "execution_count": 12,
   "id": "be0c80b3",
   "metadata": {},
   "outputs": [],
   "source": [
    "colorlis=[]\n",
    "widlis=[]\n",
    "rlis=[]"
   ]
  },
  {
   "cell_type": "code",
   "execution_count": 13,
   "id": "4a44b4fd",
   "metadata": {},
   "outputs": [],
   "source": [
    "for i in range(len(ratiocof)):\n",
    "    if pcof_mean[i]<0:\n",
    "        R = 255\n",
    "        G = 255-int(0.9*255*ratiocof[i]/max(ratiocof))\n",
    "        B = 255-int(0.9*255*ratiocof[i]/max(ratiocof))\n",
    "        wid=-1*pcof_mean[i]*10\n",
    "    else:\n",
    "        R = 255-int(0.9*255*ratiocof[i]/max(ratiocof))\n",
    "        G = 255-int(0.9*255*ratiocof[i]/max(ratiocof))\n",
    "        B = 255\n",
    "        wid=pcof_mean[i]*10\n",
    "    color_code = '#{}{}{}'.format(hex(R), hex(G), hex(B))\n",
    "    color_code = color_code.replace('0x', '')\n",
    "    colorlis.append(color_code)\n",
    "    widlis.append(wid)\n",
    "    rlis.append(R)"
   ]
  },
  {
   "cell_type": "code",
   "execution_count": 108,
   "id": "2090a9b4",
   "metadata": {},
   "outputs": [
    {
     "data": {
      "text/plain": [
       "[127,\n",
       " 0,\n",
       " 255,\n",
       " 0,\n",
       " 0,\n",
       " 71,\n",
       " 50,\n",
       " 108,\n",
       " 91,\n",
       " 0,\n",
       " 132,\n",
       " 0,\n",
       " 40,\n",
       " 0,\n",
       " 0,\n",
       " 0,\n",
       " 0,\n",
       " 0,\n",
       " 0,\n",
       " 0,\n",
       " 0,\n",
       " 66,\n",
       " 19,\n",
       " 38,\n",
       " 45,\n",
       " 0,\n",
       " 0,\n",
       " 82,\n",
       " 0,\n",
       " 0,\n",
       " 0,\n",
       " 142,\n",
       " 19,\n",
       " 0,\n",
       " 0,\n",
       " 26,\n",
       " 51,\n",
       " 38]"
      ]
     },
     "execution_count": 108,
     "metadata": {},
     "output_type": "execute_result"
    }
   ],
   "source": [
    "rlis"
   ]
  },
  {
   "cell_type": "code",
   "execution_count": 18,
   "id": "4d2cf571",
   "metadata": {},
   "outputs": [
    {
     "name": "stdout",
     "output_type": "stream",
     "text": [
      "Local cdn resources have problems on chrome/safari when used in jupyter-notebook. \n"
     ]
    }
   ],
   "source": [
    "network = Network(\n",
    "    height=\"500px\",  # デフォルト \"500px\"\n",
    "    width=\"500px\",  # デフォルト \"500px\"\n",
    "    notebook=True,  # これをTrueにしておくとjupyter上で結果が見れる\n",
    "    bgcolor='#ffffff',  # 背景色。デフォルト \"#ffffff\"\n",
    "    directed=True,  # Trueにすると有向グラフ。デフォルトはFalseで無向グラフ\n",
    ")"
   ]
  },
  {
   "cell_type": "code",
   "execution_count": 19,
   "id": "7ab31cd5",
   "metadata": {},
   "outputs": [],
   "source": [
    "# add_node でノードを追加\n",
    "# label は省略可能。省略するとidと同じになる。\n",
    "network.add_node(n_id=1, label=\"input\", shape=\"box\",x=200,y=0,physics=False)\n",
    "network.add_node(n_id=2, label=\"Bacteria\", shape=\"box\",color='gray',x=200,y=80,physics=False)\n",
    "network.add_node(n_id=3, label=\"Toll-like receptors\", shape=\"box\",color='gray',x=200,y=160,physics=False)\n",
    "network.add_node(n_id=4, label=\"Effector immune cells\", shape=\"box\",color='gray',x=50,y=120,physics=False)\n",
    "network.add_node(n_id=5, label=\"Epithelial barrier\", shape=\"box\",color='gray',x=350,y=120,physics=False)\n",
    "network.add_node(n_id=6, label=\"Monocytes\", shape=\"box\",color='gray',x=50,y=250,physics=False)\n",
    "network.add_node(n_id=7, label=\"Endothelial damage\", shape=\"box\",color='gray',x=350,y=250,physics=False)\n",
    "network.add_node(n_id=8, label=\"Osteoclasts\", shape=\"box\",color='gray',x=120,y=330,physics=False)\n",
    "network.add_node(n_id=9, label=\"Osteoblasts\", shape=\"box\",color='gray',x=280,y=330,physics=False)\n",
    "network.add_node(n_id=10, label=\"Bone integrity\", shape=\"box\",color='gray',x=200,y=430,physics=False)\n",
    "network.add_node(n_id=11, label=\"Pdcd1\", shape=\"box\",x=40,y=40,physics=False)\n",
    "network.add_node(n_id=12, label=\"Il10\", shape=\"box\",x=0,y=185,physics=False)\n",
    "network.add_node(n_id=13, label=\"Arg1\", shape=\"box\",x=50,y=185,physics=False)\n",
    "network.add_node(n_id=14, label=\"Ppp1r11\", shape=\"box\",x=200,y=230,physics=False)\n",
    "network.add_node(n_id=15, label=\"Vegfa\", shape=\"box\",x=450,y=200,physics=False)\n",
    "\n",
    "# add_edge でエッジを追加\n",
    "network.add_edge(1, 2,width=widlis[0],color=colorlis[0])\n",
    "#network.add_edge(2, 2,width=widlis[1],color=colorlis[1])\n",
    "network.add_edge(4, 2,width=widlis[2],color=colorlis[2])\n",
    "network.add_edge(5, 2,width=widlis[3],color=colorlis[3])\n",
    "network.add_edge(8, 10,width=widlis[4],color=colorlis[4])\n",
    "network.add_edge(9, 10,width=widlis[5],color=colorlis[5])\n",
    "network.add_edge(2, 3,width=widlis[6],color=colorlis[6])\n",
    "network.add_edge(3, 14,width=widlis[7],color=colorlis[7])\n",
    "network.add_edge(14, 3,width=widlis[8],color=colorlis[8])\n",
    "#network.add_edge(14, 14,width=widlis[9],color=colorlis[9])\n",
    "network.add_edge(3, 5,width=widlis[10],color=colorlis[10])\n",
    "network.add_edge(3, 4,width=widlis[11],color=colorlis[11])\n",
    "network.add_edge(4, 11,width=widlis[12],color=colorlis[12])\n",
    "network.add_edge(11, 4,width=widlis[13],color=colorlis[13])\n",
    "network.add_edge(6, 13,width=widlis[14],color=colorlis[14])\n",
    "network.add_edge(13, 4,width=widlis[15],color=colorlis[15])\n",
    "#network.add_edge(11, 11,width=widlis[16],color=colorlis[16])\n",
    "#network.add_edge(13, 13,width=widlis[17],color=colorlis[17])\n",
    "network.add_edge(4, 12,width=widlis[18],color=colorlis[18])\n",
    "network.add_edge(12, 4,width=widlis[19],color=colorlis[19])\n",
    "network.add_edge(6, 12,width=widlis[20],color=colorlis[20])\n",
    "network.add_edge(12, 6,width=widlis[21],color=colorlis[21])\n",
    "#network.add_edge(12, 12,width=widlis[22],color=colorlis[22])\n",
    "network.add_edge(3, 7,width=widlis[23],color=colorlis[23])\n",
    "network.add_edge(7, 15,width=widlis[24],color=colorlis[24])\n",
    "network.add_edge(15, 7,width=widlis[25],color=colorlis[25])\n",
    "#network.add_edge(15, 15,width=widlis[26],color=colorlis[26])\n",
    "network.add_edge(3, 6,width=widlis[27],color=colorlis[27])\n",
    "network.add_edge(7, 6,width=widlis[28],color=colorlis[28])\n",
    "network.add_edge(8, 9,width=widlis[29],color=colorlis[29])\n",
    "#network.add_edge(8, 8,width=widlis[30],color=colorlis[30])\n",
    "network.add_edge(6, 8,width=widlis[31],color=colorlis[31])\n",
    "network.add_edge(9, 8,width=widlis[32],color=colorlis[32])\n",
    "\n",
    "#network.add_edge(2, 4, width=2)  # width で太さを変えられる\n",
    "#network.add_edge(3, 4, smooth=\"dynamic\")  # smooth を指定することで、エッジを曲線にできる\n",
    "#network.add_edge(4, 3, smooth=\"dynamic\")  # エッジを曲線にすると双方向のエッジを別の線にできる。(直線だと重なる)"
   ]
  },
  {
   "cell_type": "code",
   "execution_count": 20,
   "id": "b70829ca",
   "metadata": {},
   "outputs": [
    {
     "data": {
      "text/html": [
       "\n",
       "        <iframe\n",
       "            width=\"500px\"\n",
       "            height=\"500px\"\n",
       "            src=\"pyvis_sample1.html\"\n",
       "            frameborder=\"0\"\n",
       "            allowfullscreen\n",
       "        ></iframe>\n",
       "        "
      ],
      "text/plain": [
       "<IPython.lib.display.IFrame at 0x2b6c4ecc3d0>"
      ]
     },
     "execution_count": 20,
     "metadata": {},
     "output_type": "execute_result"
    }
   ],
   "source": [
    "# 指定したファイル名でHTMLを出力。\n",
    "network.show(\"pyvis_sample1.html\")"
   ]
  },
  {
   "cell_type": "code",
   "execution_count": 18,
   "id": "efafec21",
   "metadata": {},
   "outputs": [
    {
     "data": {
      "text/plain": [
       "2.007323177119957"
      ]
     },
     "execution_count": 18,
     "metadata": {},
     "output_type": "execute_result"
    }
   ],
   "source": [
    "ratiocof[23]"
   ]
  },
  {
   "cell_type": "code",
   "execution_count": 74,
   "id": "756fb162",
   "metadata": {},
   "outputs": [],
   "source": [
    "R = 140\n",
    "G = 180\n",
    "B = 250\n",
    "color_code = '#{}{}{}'.format(hex(R), hex(G), hex(B))\n",
    "color_code = color_code.replace('0x', '')"
   ]
  },
  {
   "cell_type": "code",
   "execution_count": 75,
   "id": "39ba5be8",
   "metadata": {},
   "outputs": [
    {
     "data": {
      "text/plain": [
       "'#8cb4fa'"
      ]
     },
     "execution_count": 75,
     "metadata": {},
     "output_type": "execute_result"
    }
   ],
   "source": [
    "color_code"
   ]
  },
  {
   "cell_type": "code",
   "execution_count": 17,
   "id": "3b54bab7",
   "metadata": {},
   "outputs": [
    {
     "data": {
      "text/plain": [
       "'#ff00'"
      ]
     },
     "execution_count": 17,
     "metadata": {},
     "output_type": "execute_result"
    }
   ],
   "source": [
    "colorlis[2]"
   ]
  },
  {
   "cell_type": "code",
   "execution_count": 18,
   "id": "2a43503f",
   "metadata": {},
   "outputs": [
    {
     "data": {
      "text/plain": [
       "0.43637609562830354"
      ]
     },
     "execution_count": 18,
     "metadata": {},
     "output_type": "execute_result"
    }
   ],
   "source": [
    "widlis[2]"
   ]
  },
  {
   "cell_type": "code",
   "execution_count": 19,
   "id": "bc0529e6",
   "metadata": {},
   "outputs": [
    {
     "data": {
      "text/plain": [
       "255"
      ]
     },
     "execution_count": 19,
     "metadata": {},
     "output_type": "execute_result"
    }
   ],
   "source": [
    "int(255*ratiocof[2]/max(ratiocof))"
   ]
  },
  {
   "cell_type": "code",
   "execution_count": null,
   "id": "8afd3c9e",
   "metadata": {},
   "outputs": [],
   "source": []
  }
 ],
 "metadata": {
  "kernelspec": {
   "display_name": "Python 3",
   "language": "python",
   "name": "python3"
  },
  "language_info": {
   "codemirror_mode": {
    "name": "ipython",
    "version": 3
   },
   "file_extension": ".py",
   "mimetype": "text/x-python",
   "name": "python",
   "nbconvert_exporter": "python",
   "pygments_lexer": "ipython3",
   "version": "3.8.8"
  }
 },
 "nbformat": 4,
 "nbformat_minor": 5
}
